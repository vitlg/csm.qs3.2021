{
  "nbformat": 4,
  "nbformat_minor": 0,
  "metadata": {
    "colab": {
      "name": "Lab8_Codificacao_Audio_mpeg_v11.ipynb",
      "provenance": [],
      "collapsed_sections": []
    },
    "kernelspec": {
      "display_name": "Python 3",
      "name": "python3"
    }
  },
  "cells": [
    {
      "cell_type": "markdown",
      "metadata": {
        "id": "CUq1_Dnegrs1"
      },
      "source": [
        "# **1.** Mount Google Drive \n",
        "\n",
        "\n",
        "\n"
      ]
    },
    {
      "cell_type": "markdown",
      "metadata": {
        "id": "8ywOCWSBh4BK"
      },
      "source": [
        "# Lab8 - Codificação de Áudio com ffmpeg"
      ]
    },
    {
      "cell_type": "markdown",
      "metadata": {
        "id": "Qp1dFJ3MBzfu"
      },
      "source": [
        "Objetivos:\n",
        "<ul>\n",
        "<li> Conhecer as opções de codificação do ffmpeg </li>\n",
        "<li> Verificar várias taxas mpeg 1, camada 3 e conversão entre codecs </li>\n",
        "<li> Variação de tempo </li>\n",
        "</ul>"
      ]
    },
    {
      "cell_type": "code",
      "metadata": {
        "colab": {
          "base_uri": "https://localhost:8080/"
        },
        "id": "ojI73noUg1If",
        "outputId": "f967e12a-d570-4951-9cf4-2ac54acea528"
      },
      "source": [
        "from google.colab import drive\n",
        "drive.mount('/content/drive')"
      ],
      "execution_count": 2,
      "outputs": [
        {
          "output_type": "stream",
          "name": "stdout",
          "text": [
            "Mounted at /content/drive\n"
          ]
        }
      ]
    },
    {
      "cell_type": "markdown",
      "metadata": {
        "id": "JuobeX2o7UeC"
      },
      "source": [
        "Arquivo .wav full"
      ]
    },
    {
      "cell_type": "code",
      "metadata": {
        "id": "xEeAOQQZ7Zz1"
      },
      "source": [
        "import numpy as np\n",
        "from scipy import signal\n",
        "import matplotlib.pyplot as plt\n",
        "import librosa\n",
        "import librosa.display\n",
        "import IPython.display\n",
        "import math"
      ],
      "execution_count": 3,
      "outputs": []
    },
    {
      "cell_type": "code",
      "metadata": {
        "id": "T0Lc-2A-8CWg"
      },
      "source": [
        "abba320k = '/content/drive/MyDrive/Colab Notebooks/ABBA_Fernando.wav'\n",
        "fer320 , sr320 = librosa.load(abba320k)\n",
        "print(type(fer320), type(sr320))\n",
        "print(fer320.shape, sr320)\n",
        "# Player será aberto! AGUARDE até abrir!\n",
        "IPython.display.Audio(data=fer320, rate=sr320)"
      ],
      "execution_count": null,
      "outputs": []
    },
    {
      "cell_type": "markdown",
      "metadata": {
        "id": "FWQQ6zY69xin"
      },
      "source": [
        "Espectrograma Original"
      ]
    },
    {
      "cell_type": "code",
      "metadata": {
        "id": "ennvLJYk90Gk"
      },
      "source": [
        "plt.figure(figsize=(20, 5))\n",
        "D = librosa.amplitude_to_db(np.abs(librosa.stft(fer320)), ref=np.max)\n",
        "librosa.display.specshow(D, x_axis='time',y_axis='linear')\n",
        "plt.colorbar(format='%+2.0f dB')\n",
        "plt.title('Linear-frequency power spectrogram'+ abba320k)"
      ],
      "execution_count": null,
      "outputs": []
    },
    {
      "cell_type": "markdown",
      "metadata": {
        "id": "su3mZ5OBE_z5"
      },
      "source": [
        "Verificar os codecs"
      ]
    },
    {
      "cell_type": "markdown",
      "metadata": {
        "id": "78qry_E0ZXlO"
      },
      "source": [
        "# Opções do ffmpeg"
      ]
    },
    {
      "cell_type": "markdown",
      "metadata": {
        "id": "c0rb-YQDAFgV"
      },
      "source": [
        "Conversão wav em mp3, 128kbps"
      ]
    },
    {
      "cell_type": "code",
      "metadata": {
        "id": "bLNBKM9MFC0I"
      },
      "source": [
        "!ffmpeg -h"
      ],
      "execution_count": null,
      "outputs": []
    },
    {
      "cell_type": "code",
      "metadata": {
        "id": "4YEmtAfqFKI5"
      },
      "source": [
        "!ffmpeg -codecs"
      ],
      "execution_count": null,
      "outputs": []
    },
    {
      "cell_type": "code",
      "metadata": {
        "id": "aPgKVHBhAMfF"
      },
      "source": [
        "!ffmpeg -i /content/drive/MyDrive/CSM/ABBA_Fernando.wav -codec:a libmp3lame -b:a 128k abba128k.mp3"
      ],
      "execution_count": null,
      "outputs": []
    },
    {
      "cell_type": "markdown",
      "metadata": {
        "id": "oPPY0ZVjBy3I"
      },
      "source": [
        "Áudio e Espectrograma do arquivo codificado"
      ]
    },
    {
      "cell_type": "code",
      "metadata": {
        "id": "hQr5e8CgB2vx"
      },
      "source": [
        "abba128k = './abba128k.mp3'\n",
        "print(abba128k)\n",
        "fer128 , sr128 = librosa.load(abba128k)\n",
        "print(type(fer128), type(sr128))\n",
        "print(fer128.shape, sr128)\n",
        "# Player será aberto! AGUARDE até abrir!\n",
        "IPython.display.Audio(data=fer128, rate=sr128)"
      ],
      "execution_count": null,
      "outputs": []
    },
    {
      "cell_type": "code",
      "metadata": {
        "id": "ZGHaBUNrGJm_"
      },
      "source": [
        "plt.figure(figsize=(20, 5))\n",
        "D = librosa.amplitude_to_db(np.abs(librosa.stft(fer128)), ref=np.max)\n",
        "librosa.display.specshow(D, x_axis='time',y_axis='linear')\n",
        "plt.colorbar(format='%+2.0f dB')\n",
        "plt.title('Linear-frequency power spectrogram'+ abba128k)"
      ],
      "execution_count": null,
      "outputs": []
    },
    {
      "cell_type": "markdown",
      "metadata": {
        "id": "UdL2NZjfGGQR"
      },
      "source": [
        "Espectrograma do Arquivo codificado a 128kbps"
      ]
    },
    {
      "cell_type": "markdown",
      "metadata": {
        "id": "CEzDQHQNb3tT"
      },
      "source": [
        "Codificando a 64kbps"
      ]
    },
    {
      "cell_type": "code",
      "metadata": {
        "id": "6-qfEAhIb8QD"
      },
      "source": [
        "!ffmpeg -i /content/drive/MyDrive/Colab_Notebooks/ABBA_Fernando.wav -codec:a libmp3lame -b:a 64k abba64k.mp3"
      ],
      "execution_count": null,
      "outputs": []
    },
    {
      "cell_type": "markdown",
      "metadata": {
        "id": "Dqb7WrYrcVui"
      },
      "source": [
        "Espectrograma do arquivo a 64kbps"
      ]
    },
    {
      "cell_type": "code",
      "metadata": {
        "id": "SfbNNPNocZeh"
      },
      "source": [
        "abba64k = './abba64k.mp3'\n",
        "print(abba64k)\n",
        "fer64 , sr64 = librosa.load(abba64k)\n",
        "plt.figure(figsize=(20, 5))\n",
        "D = librosa.amplitude_to_db(np.abs(librosa.stft(fer64)), ref=np.max)\n",
        "librosa.display.specshow(D, x_axis='time',y_axis='linear')\n",
        "plt.colorbar(format='%+2.0f dB')\n",
        "plt.title('Linear-frequency power spectrogram'+ abba64k)"
      ],
      "execution_count": null,
      "outputs": []
    },
    {
      "cell_type": "markdown",
      "metadata": {
        "id": "138p19WJdOQ4"
      },
      "source": [
        "Audio do arquivo"
      ]
    },
    {
      "cell_type": "code",
      "metadata": {
        "colab": {
          "background_save": true
        },
        "id": "m2OIhKzndRQR"
      },
      "source": [
        "IPython.display.Audio(data=fer64, rate=sr64)"
      ],
      "execution_count": null,
      "outputs": []
    },
    {
      "cell_type": "markdown",
      "metadata": {
        "id": "CCXbZxdbhEHA"
      },
      "source": [
        "Conversão de Codecs"
      ]
    },
    {
      "cell_type": "code",
      "metadata": {
        "id": "lGkEkZFnhGoq"
      },
      "source": [
        "!ffmpeg -i abba128k.mp3 -c:a libvorbis abba128k.ogg"
      ],
      "execution_count": null,
      "outputs": []
    },
    {
      "cell_type": "code",
      "metadata": {
        "id": "8DlrAseDhHLZ"
      },
      "source": [
        "!ls -l\n"
      ],
      "execution_count": null,
      "outputs": []
    },
    {
      "cell_type": "markdown",
      "metadata": {
        "id": "Qst6U-g9iIvi"
      },
      "source": [
        "Faça o procedimento para mais três taxas, 32k, 16k e 8kbps.\n"
      ]
    },
    {
      "cell_type": "markdown",
      "metadata": {
        "id": "KK0sRtBOipFa"
      },
      "source": [
        "Alterando a velocidade"
      ]
    },
    {
      "cell_type": "code",
      "metadata": {
        "id": "7QQcL-Xaiux6"
      },
      "source": [
        "!ffmpeg -i abba128k.mp3 -filter:a \"atempo=2.0\" -vn abba128k_v2.mp3"
      ],
      "execution_count": null,
      "outputs": []
    },
    {
      "cell_type": "markdown",
      "metadata": {
        "id": "qX3jc7QQjWVN"
      },
      "source": [
        "Audio v2"
      ]
    },
    {
      "cell_type": "code",
      "metadata": {
        "id": "DFRHtB0jjX-P"
      },
      "source": [
        "abba128k_2 = './abba128k_v2.mp3'\n",
        "print(abba128k_2)\n",
        "fer128_2 , sr128_2 = librosa.load(abba128k_2)\n",
        "IPython.display.Audio(data=fer128_2, rate=sr128_2)"
      ],
      "execution_count": null,
      "outputs": []
    },
    {
      "cell_type": "markdown",
      "metadata": {
        "id": "qU_NfQ-cj8lP"
      },
      "source": [
        "Mude para um tempo mais lento"
      ]
    },
    {
      "cell_type": "markdown",
      "metadata": {
        "id": "ZA0_LLnViaRN"
      },
      "source": [
        "# Repita todos os passos para um arquivo de áudio original de preferência de um CD, mas ao invés da opção codificação com taxa fixa (-b:a), use -q:a N (com N um número de 0 a 9), de 320 a 65kbps."
      ]
    },
    {
      "cell_type": "code",
      "metadata": {
        "id": "jBwOOBkIkDdb"
      },
      "source": [
        ""
      ],
      "execution_count": null,
      "outputs": []
    },
    {
      "cell_type": "markdown",
      "metadata": {
        "id": "oBVbTJBxkEsQ"
      },
      "source": [
        "# Relatório\n",
        "* Comparar os espectrogramas e as taxas de compressão nos arquivos gravados (façam tabelas e as analisem!).\n",
        "* Apresentar as formas de onda e os espectrogramas para os arquivos com tempo modificados.\n",
        "* Apresentar aquivos de áudio diferentes para cada integrante do grupo: sugerimos escolherem músicas com intrumental e ritmos diferentes."
      ]
    },
    {
      "cell_type": "code",
      "metadata": {
        "id": "UvqG8c91ev5S"
      },
      "source": [
        ""
      ],
      "execution_count": null,
      "outputs": []
    }
  ]
}