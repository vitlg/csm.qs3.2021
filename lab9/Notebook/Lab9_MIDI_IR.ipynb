{
  "nbformat": 4,
  "nbformat_minor": 0,
  "metadata": {
    "colab": {
      "name": "Lab9_MIDI_IR.ipynb",
      "provenance": [],
      "collapsed_sections": []
    },
    "kernelspec": {
      "display_name": "Python 3",
      "name": "python3"
    }
  },
  "cells": [
    {
      "cell_type": "markdown",
      "metadata": {
        "id": "dPkdg9jTjkTd"
      },
      "source": [
        "# UFABC - CSM - 3QS2021 - Minami\n",
        "# Lab9 - MIDI e IR\n",
        "\n",
        "# Objetivos\n",
        "<ol>\n",
        "  <li> Tocar notas e gerar músicas simples </li>\n",
        "  <li> Gerar arquivos MIDI </li>\n",
        "  <li> Reproduzir arquivos MIDI </li>\n",
        "  <li> Simular a reprodução em salas com Respostas Impulsivas diversas </li>\n",
        "</ol>\n",
        "\n"
      ]
    },
    {
      "cell_type": "markdown",
      "metadata": {
        "id": "R122bwRNbTus"
      },
      "source": [
        ""
      ]
    },
    {
      "cell_type": "markdown",
      "metadata": {
        "id": "zJbq5TmtFJUU"
      },
      "source": [
        "# 1 - Tocar notas e gerar músicas simples\n",
        "<ul> \n",
        "<li> Instalando Magenta </li> \n",
        "</ul>\n"
      ]
    },
    {
      "cell_type": "code",
      "metadata": {
        "id": "PfRDVhNs3UFx"
      },
      "source": [
        "#@test {\"output\": \"ignore\"}\n",
        "print('Installing dependencies...')\n",
        "!apt-get update -qq && apt-get install -qq libfluidsynth1 fluid-soundfont-gm build-essential libasound2-dev libjack-dev\n",
        "!pip install -qU pyfluidsynth pretty_midi\n",
        "\n",
        "!pip install -qU magenta\n",
        "\n",
        "# Hack to allow python to pick up the newly-installed fluidsynth lib. \n",
        "# This is only needed for the hosted Colab environment.\n",
        "import ctypes.util\n",
        "orig_ctypes_util_find_library = ctypes.util.find_library\n",
        "def proxy_find_library(lib):\n",
        "  if lib == 'fluidsynth':\n",
        "    return 'libfluidsynth.so.1'\n",
        "  else:\n",
        "    return orig_ctypes_util_find_library(lib)\n",
        "ctypes.util.find_library = proxy_find_library\n",
        "\n",
        "print('Importing libraries and defining some helper functions...')\n",
        "from google.colab import files\n",
        "\n",
        "import magenta\n",
        "import note_seq\n",
        "\n",
        "\n",
        "print('🎉 Done!')\n",
        "print(magenta.__version__)\n"
      ],
      "execution_count": null,
      "outputs": []
    },
    {
      "cell_type": "markdown",
      "metadata": {
        "id": "oLSgiA6Uktpm"
      },
      "source": [
        "## Gerando TONS com NoteSequences\n",
        "\n",
        "Everything in `Magenta` is centered around [NoteSequences](https://github.com/magenta/note-seq/blob/master/note_seq/protobuf/music.proto#L27). This is an abstract representation of a series of notes, each with different pitches, instruments and strike velocities, much like [MIDI](https://en.wikipedia.org/wiki/MIDI).\n",
        "\n",
        "For example, this is a `NoteSequence` that represents \"Twinkle Twinkle Little Star\". "
      ]
    },
    {
      "cell_type": "code",
      "metadata": {
        "id": "71dgCmmBli-s"
      },
      "source": [
        "from note_seq.protobuf import music_pb2\n",
        "\n",
        "twinkle_twinkle = music_pb2.NoteSequence()\n",
        "\n",
        "# Add the notes to the sequence.\n",
        "twinkle_twinkle.notes.add(pitch=60, start_time=0.0, end_time=0.5, velocity=80)\n",
        "twinkle_twinkle.notes.add(pitch=60, start_time=0.5, end_time=1.0, velocity=80)\n",
        "twinkle_twinkle.notes.add(pitch=67, start_time=1.0, end_time=1.5, velocity=80)\n",
        "twinkle_twinkle.notes.add(pitch=67, start_time=1.5, end_time=2.0, velocity=80)\n",
        "twinkle_twinkle.notes.add(pitch=69, start_time=2.0, end_time=2.5, velocity=80)\n",
        "twinkle_twinkle.notes.add(pitch=69, start_time=2.5, end_time=3.0, velocity=80)\n",
        "twinkle_twinkle.notes.add(pitch=67, start_time=3.0, end_time=4.0, velocity=80)\n",
        "twinkle_twinkle.notes.add(pitch=65, start_time=4.0, end_time=4.5, velocity=80)\n",
        "twinkle_twinkle.notes.add(pitch=65, start_time=4.5, end_time=5.0, velocity=80)\n",
        "twinkle_twinkle.notes.add(pitch=64, start_time=5.0, end_time=5.5, velocity=80)\n",
        "twinkle_twinkle.notes.add(pitch=64, start_time=5.5, end_time=6.0, velocity=80)\n",
        "twinkle_twinkle.notes.add(pitch=62, start_time=6.0, end_time=6.5, velocity=80)\n",
        "twinkle_twinkle.notes.add(pitch=62, start_time=6.5, end_time=7.0, velocity=80)\n",
        "twinkle_twinkle.notes.add(pitch=60, start_time=7.0, end_time=8.0, velocity=80) \n",
        "twinkle_twinkle.total_time = 8\n",
        "\n",
        "twinkle_twinkle.tempos.add(qpm=60);\n",
        "\n",
        "# This is a colab utility method that visualizes a NoteSequence.\n",
        "note_seq.plot_sequence(twinkle_twinkle)\n",
        "\n",
        "# This is a colab utility method that plays a NoteSequence.\n",
        "note_seq.play_sequence(twinkle_twinkle,synth=note_seq.fluidsynth)\n",
        "\n"
      ],
      "execution_count": null,
      "outputs": []
    },
    {
      "cell_type": "markdown",
      "metadata": {
        "id": "h-U5hzOGA09X"
      },
      "source": [
        "Pode variar os tempos e as notas"
      ]
    },
    {
      "cell_type": "markdown",
      "metadata": {
        "id": "w71DLGEMAIxZ"
      },
      "source": [
        "## Agora com ASA BRANCA\n",
        "Há um pequeno erro na melodia, procure consertá-lo!"
      ]
    },
    {
      "cell_type": "code",
      "metadata": {
        "id": "YV6eGZPQABoq"
      },
      "source": [
        "# Asa Branca\n",
        "\n",
        "asa_branca_piano = music_pb2.NoteSequence()\n",
        "\n",
        "# CifraClub\n",
        "asa_branca_piano.notes.add(pitch=72, start_time=0.0, end_time=0.5, velocity=80)\n",
        "asa_branca_piano.notes.add(pitch=74, start_time=0.5, end_time=1.0, velocity=80)\n",
        "asa_branca_piano.notes.add(pitch=76, start_time=1.0, end_time=1.5, velocity=80)\n",
        "asa_branca_piano.notes.add(pitch=79, start_time=1.5, end_time=2.0, velocity=80)\n",
        "asa_branca_piano.notes.add(pitch=79, start_time=2.0, end_time=2.5, velocity=80)\n",
        "asa_branca_piano.notes.add(pitch=76, start_time=2.5, end_time=3.0, velocity=80)\n",
        "asa_branca_piano.notes.add(pitch=77, start_time=3.0, end_time=4.0, velocity=80)\n",
        "asa_branca_piano.notes.add(pitch=77, start_time=4.0, end_time=4.5, velocity=80)\n",
        "asa_branca_piano.notes.add(pitch=72, start_time=4.5, end_time=5.0, velocity=80)\n",
        "asa_branca_piano.notes.add(pitch=74, start_time=5.0, end_time=5.5, velocity=80)\n",
        "asa_branca_piano.notes.add(pitch=76, start_time=5.5, end_time=6.0, velocity=80)\n",
        "asa_branca_piano.notes.add(pitch=79, start_time=6.0, end_time=6.5, velocity=80)\n",
        "asa_branca_piano.notes.add(pitch=79, start_time=6.5, end_time=7.0, velocity=80)\n",
        "asa_branca_piano.notes.add(pitch=77, start_time=7.0, end_time=8.0, velocity=80) \n",
        "asa_branca_piano.notes.add(pitch=76, start_time=8.0, end_time=8.5, velocity=80)\n",
        "asa_branca_piano.notes.add(pitch=72, start_time=8.5, end_time=9.0, velocity=80)\n",
        "asa_branca_piano.notes.add(pitch=72, start_time=9.0, end_time=9.5, velocity=80)\n",
        "asa_branca_piano.notes.add(pitch=74, start_time=9.5, end_time=10.0, velocity=80)\n",
        "\n",
        "asa_branca_piano.notes.add(pitch=76, start_time=10.0, end_time=10.5, velocity=80)\n",
        "asa_branca_piano.notes.add(pitch=79, start_time=10.5, end_time=11.0, velocity=80)\n",
        "asa_branca_piano.notes.add(pitch=79, start_time=11.0, end_time=11.5, velocity=80)\n",
        "asa_branca_piano.notes.add(pitch=77, start_time=11.5, end_time=12.0, velocity=80)\n",
        "asa_branca_piano.notes.add(pitch=76, start_time=12.0, end_time=12.5, velocity=80)\n",
        "asa_branca_piano.notes.add(pitch=72, start_time=12.5, end_time=13.0, velocity=80)\n",
        "asa_branca_piano.notes.add(pitch=77, start_time=13.0, end_time=13.5, velocity=80)\n",
        "asa_branca_piano.notes.add(pitch=77, start_time=13.5, end_time=14.0, velocity=80)\n",
        "asa_branca_piano.notes.add(pitch=76, start_time=14.0, end_time=14.5, velocity=80)\n",
        "asa_branca_piano.notes.add(pitch=74, start_time=14.5, end_time=15.0, velocity=80)\n",
        "asa_branca_piano.notes.add(pitch=74, start_time=15.0, end_time=16.0, velocity=80) \n",
        "asa_branca_piano.notes.add(pitch=76, start_time=16.0, end_time=17.5, velocity=80)  \n",
        "asa_branca_piano.notes.add(pitch=74, start_time=17.5, end_time=18.0, velocity=80)\n",
        "asa_branca_piano.notes.add(pitch=74, start_time=18.0, end_time=19.0, velocity=80) \n",
        "asa_branca_piano.notes.add(pitch=72, start_time=19.0, end_time=19.5, velocity=80)  \n",
        "asa_branca_piano.notes.add(pitch=72, start_time=19.5, end_time=20.0, velocity=80)  \n",
        "asa_branca_piano.total_time = 20.0\n",
        "\n",
        "asa_branca_piano.tempos.add(qpm=60);\n",
        "\n",
        "# This is a colab utility method that visualizes a NoteSequence.\n",
        "note_seq.plot_sequence(asa_branca_piano)\n",
        "\n",
        "# This is a colab utility method that plays a NoteSequence.\n",
        "note_seq.play_sequence(asa_branca_piano,synth=note_seq.fluidsynth)\n",
        "\n"
      ],
      "execution_count": null,
      "outputs": []
    },
    {
      "cell_type": "markdown",
      "metadata": {
        "id": "oC7BS_4OwCIR"
      },
      "source": [
        "Pode usar outro instrumento. Por exemple, uma bateria "
      ]
    },
    {
      "cell_type": "code",
      "metadata": {
        "id": "DQLjca9SwOiI"
      },
      "source": [
        "drums = music_pb2.NoteSequence()\n",
        "\n",
        "drums.notes.add(pitch=36, start_time=0, end_time=0.125, is_drum=True, instrument=10, velocity=80)\n",
        "drums.notes.add(pitch=38, start_time=0, end_time=0.125, is_drum=True, instrument=10, velocity=80)\n",
        "drums.notes.add(pitch=42, start_time=0, end_time=0.125, is_drum=True, instrument=10, velocity=80)\n",
        "drums.notes.add(pitch=46, start_time=0, end_time=0.125, is_drum=True, instrument=10, velocity=80)\n",
        "drums.notes.add(pitch=42, start_time=0.25, end_time=0.375, is_drum=True, instrument=10, velocity=80)\n",
        "drums.notes.add(pitch=42, start_time=0.375, end_time=0.5, is_drum=True, instrument=10, velocity=80)\n",
        "drums.notes.add(pitch=42, start_time=0.5, end_time=0.625, is_drum=True, instrument=10, velocity=80)\n",
        "drums.notes.add(pitch=50, start_time=0.5, end_time=0.625, is_drum=True, instrument=10, velocity=80)\n",
        "drums.notes.add(pitch=36, start_time=0.75, end_time=0.875, is_drum=True, instrument=10, velocity=80)\n",
        "drums.notes.add(pitch=38, start_time=0.75, end_time=0.875, is_drum=True, instrument=10, velocity=80)\n",
        "drums.notes.add(pitch=42, start_time=0.75, end_time=0.875, is_drum=True, instrument=10, velocity=80)\n",
        "drums.notes.add(pitch=45, start_time=0.75, end_time=0.875, is_drum=True, instrument=10, velocity=80)\n",
        "drums.notes.add(pitch=36, start_time=1, end_time=1.125, is_drum=True, instrument=10, velocity=80)\n",
        "drums.notes.add(pitch=42, start_time=1, end_time=1.125, is_drum=True, instrument=10, velocity=80)\n",
        "drums.notes.add(pitch=46, start_time=1, end_time=1.125, is_drum=True, instrument=10, velocity=80)\n",
        "drums.notes.add(pitch=42, start_time=1.25, end_time=1.375, is_drum=True, instrument=10, velocity=80)\n",
        "drums.notes.add(pitch=48, start_time=1.25, end_time=1.375, is_drum=True, instrument=10, velocity=80)\n",
        "drums.notes.add(pitch=50, start_time=1.25, end_time=1.375, is_drum=True, instrument=10, velocity=80)\n",
        "drums.total_time = 1.375\n",
        "\n",
        "drums.tempos.add(qpm=60)\n",
        "\n",
        "# This is a colab utility method that visualizes a NoteSequence.\n",
        "note_seq.plot_sequence(drums)\n",
        "\n",
        "\n",
        "# This is a colab utility method that plays a NoteSequence.\n",
        "note_seq.play_sequence(drums,synth=note_seq.fluidsynth)"
      ],
      "execution_count": null,
      "outputs": []
    },
    {
      "cell_type": "markdown",
      "metadata": {
        "id": "WDh6lGBxL9UK"
      },
      "source": [
        "# * Agora \"Escreva\" uma música simples, e toque-a"
      ]
    },
    {
      "cell_type": "markdown",
      "metadata": {
        "id": "QhtRBNNf05CA"
      },
      "source": [
        "# 2. Gerando arquivos MIDI: `NoteSequence` ->  MIDI\n",
        "\n",
        "When you called the \"play_sequence\" method above, this converted the `NoteSequence` to MIDI, and created an HTML widget to play it. This method is specially made for colab notebooks, so it won't work inside your Python script. That method uses the Magenta built-in [conversion methods](https://github.com/magenta/note-seq/blob/master/note_seq/midi_io.py#L51), which you can use in your python script:"
      ]
    },
    {
      "cell_type": "code",
      "metadata": {
        "id": "EcmmAToP4WE3",
        "colab": {
          "base_uri": "https://localhost:8080/",
          "height": 17
        },
        "outputId": "f0d99208-7030-4bc5-d47a-057343021532"
      },
      "source": [
        "# This creates a file called `asa_branca_sample_output.mid`, containing the drums solo we've been using.\n",
        "note_seq.sequence_proto_to_midi_file(asa_branca_piano, 'asa_branca_sample_output.mid')\n",
        "\n",
        "# This is a colab utility method to download that file. In your Python script, you \n",
        "# would just write it to disk.\n",
        "files.download('asa_branca_sample_output.mid')\n",
        "\n",
        "# This creates a file called `drums_sample_output.mid`, containing the drums solo we've been using.\n",
        "note_seq.sequence_proto_to_midi_file(drums, 'drums_sample_output.mid')\n",
        "\n",
        "# This is a colab utility method to download that file. In your Python script, you \n",
        "# would just write it to disk.\n",
        "files.download('drums_sample_output.mid')\n",
        "\n"
      ],
      "execution_count": 5,
      "outputs": [
        {
          "output_type": "display_data",
          "data": {
            "application/javascript": [
              "\n",
              "    async function download(id, filename, size) {\n",
              "      if (!google.colab.kernel.accessAllowed) {\n",
              "        return;\n",
              "      }\n",
              "      const div = document.createElement('div');\n",
              "      const label = document.createElement('label');\n",
              "      label.textContent = `Downloading \"${filename}\": `;\n",
              "      div.appendChild(label);\n",
              "      const progress = document.createElement('progress');\n",
              "      progress.max = size;\n",
              "      div.appendChild(progress);\n",
              "      document.body.appendChild(div);\n",
              "\n",
              "      const buffers = [];\n",
              "      let downloaded = 0;\n",
              "\n",
              "      const channel = await google.colab.kernel.comms.open(id);\n",
              "      // Send a message to notify the kernel that we're ready.\n",
              "      channel.send({})\n",
              "\n",
              "      for await (const message of channel.messages) {\n",
              "        // Send a message to notify the kernel that we're ready.\n",
              "        channel.send({})\n",
              "        if (message.buffers) {\n",
              "          for (const buffer of message.buffers) {\n",
              "            buffers.push(buffer);\n",
              "            downloaded += buffer.byteLength;\n",
              "            progress.value = downloaded;\n",
              "          }\n",
              "        }\n",
              "      }\n",
              "      const blob = new Blob(buffers, {type: 'application/binary'});\n",
              "      const a = document.createElement('a');\n",
              "      a.href = window.URL.createObjectURL(blob);\n",
              "      a.download = filename;\n",
              "      div.appendChild(a);\n",
              "      a.click();\n",
              "      div.remove();\n",
              "    }\n",
              "  "
            ],
            "text/plain": [
              "<IPython.core.display.Javascript object>"
            ]
          },
          "metadata": {}
        },
        {
          "output_type": "display_data",
          "data": {
            "application/javascript": [
              "download(\"download_268f2bce-071a-4a8e-830f-b1022928b83a\", \"asa_branca_sample_output.mid\", 266)"
            ],
            "text/plain": [
              "<IPython.core.display.Javascript object>"
            ]
          },
          "metadata": {}
        },
        {
          "output_type": "display_data",
          "data": {
            "application/javascript": [
              "\n",
              "    async function download(id, filename, size) {\n",
              "      if (!google.colab.kernel.accessAllowed) {\n",
              "        return;\n",
              "      }\n",
              "      const div = document.createElement('div');\n",
              "      const label = document.createElement('label');\n",
              "      label.textContent = `Downloading \"${filename}\": `;\n",
              "      div.appendChild(label);\n",
              "      const progress = document.createElement('progress');\n",
              "      progress.max = size;\n",
              "      div.appendChild(progress);\n",
              "      document.body.appendChild(div);\n",
              "\n",
              "      const buffers = [];\n",
              "      let downloaded = 0;\n",
              "\n",
              "      const channel = await google.colab.kernel.comms.open(id);\n",
              "      // Send a message to notify the kernel that we're ready.\n",
              "      channel.send({})\n",
              "\n",
              "      for await (const message of channel.messages) {\n",
              "        // Send a message to notify the kernel that we're ready.\n",
              "        channel.send({})\n",
              "        if (message.buffers) {\n",
              "          for (const buffer of message.buffers) {\n",
              "            buffers.push(buffer);\n",
              "            downloaded += buffer.byteLength;\n",
              "            progress.value = downloaded;\n",
              "          }\n",
              "        }\n",
              "      }\n",
              "      const blob = new Blob(buffers, {type: 'application/binary'});\n",
              "      const a = document.createElement('a');\n",
              "      a.href = window.URL.createObjectURL(blob);\n",
              "      a.download = filename;\n",
              "      div.appendChild(a);\n",
              "      a.click();\n",
              "      div.remove();\n",
              "    }\n",
              "  "
            ],
            "text/plain": [
              "<IPython.core.display.Javascript object>"
            ]
          },
          "metadata": {}
        },
        {
          "output_type": "display_data",
          "data": {
            "application/javascript": [
              "download(\"download_d3cc6ff9-55b7-4479-bbd5-09abf2fc3d30\", \"drums_sample_output.mid\", 180)"
            ],
            "text/plain": [
              "<IPython.core.display.Javascript object>"
            ]
          },
          "metadata": {}
        }
      ]
    },
    {
      "cell_type": "markdown",
      "metadata": {
        "id": "OFJgeGS-MShe"
      },
      "source": [
        "# * Salve a sua \"composição\" musical"
      ]
    },
    {
      "cell_type": "markdown",
      "metadata": {
        "id": "9YalOCM_5JP6"
      },
      "source": [
        "## Useful helpers\n",
        "There are a lot of other helper methods sprinkled around the `note_seq` codebase that you might need but not know where to find. Here are some of our favourites:\n",
        "\n",
        "- [converting](https://github.com/magenta/note-seq/blob/master/note_seq/midi_io.py) between MIDI and NoteSequences\n",
        "- [trimming, concatenating and expanding](https://github.com/magenta/note-seq/blob/master/note_seq/sequences_lib.py) NoteSequences\n",
        "- [colab notebook](https://github.com/magenta/note-seq/blob/master/note_seq/notebook_utils.py) utils"
      ]
    },
    {
      "cell_type": "markdown",
      "metadata": {
        "id": "r8Gcvb1ULwz1"
      },
      "source": [
        "# 3. Reproduzindo Arquivos MIDI"
      ]
    },
    {
      "cell_type": "code",
      "metadata": {
        "id": "noiuZblRGLYb"
      },
      "source": [
        "from google.colab import drive\n",
        "drive.mount('/content/drive')"
      ],
      "execution_count": null,
      "outputs": []
    },
    {
      "cell_type": "markdown",
      "metadata": {
        "id": "2jlOkKCFG_nd"
      },
      "source": [
        "Carregando MIDI"
      ]
    },
    {
      "cell_type": "code",
      "metadata": {
        "id": "zbgTKWmDHBhV"
      },
      "source": [
        "midi_file = note_seq.midi_file_to_note_sequence('/content/drive/MyDrive/chpn_op7_1_format0.mid')\n",
        "# Handle sustain pedal in midi_file\n",
        "midi_file = note_seq.apply_sustain_control_changes(midi_file)\n",
        "note_seq.play_sequence(\n",
        "    midi_file,\n",
        "    synth=note_seq.fluidsynth, sample_rate=22050)\n",
        "note_seq.plot_sequence(midi_file)"
      ],
      "execution_count": null,
      "outputs": []
    },
    {
      "cell_type": "markdown",
      "metadata": {
        "id": "cJC6_kqEx8gE"
      },
      "source": [
        "# 4. Tocando a música em alguns ambientes"
      ]
    },
    {
      "cell_type": "code",
      "metadata": {
        "id": "yA8xbFVEHsxN"
      },
      "source": [
        "import numpy as np\n",
        "import matplotlib.pyplot as plt\n",
        "import matplotlib.ticker as ticker\n",
        "import librosa\n",
        "import librosa.display\n",
        "import IPython.display"
      ],
      "execution_count": 11,
      "outputs": []
    },
    {
      "cell_type": "code",
      "metadata": {
        "id": "3Cb8i2C6ycwN"
      },
      "source": [
        "# Resposta Impulsiva de uma capela de Igreja\n",
        "ir_chapel, sr_chapel = librosa.load('/content/drive/MyDrive/stalbans_omni.wav', mono = True, sr = 96000)"
      ],
      "execution_count": 16,
      "outputs": []
    },
    {
      "cell_type": "code",
      "metadata": {
        "id": "KYB_UHxTzZNf"
      },
      "source": [
        "# Normalização da IR\n",
        "ir_chapel = librosa.util.normalize(ir_chapel)"
      ],
      "execution_count": 17,
      "outputs": []
    },
    {
      "cell_type": "code",
      "metadata": {
        "id": "A5ew48TV0TMc"
      },
      "source": [
        "IPython.display.Audio(ir_chapel, rate = sr_chapel)"
      ],
      "execution_count": null,
      "outputs": []
    },
    {
      "cell_type": "code",
      "metadata": {
        "id": "yNHALN-z0juy"
      },
      "source": [
        "plt.figure()\n",
        "fig, ax = plt.subplots(figsize=(15, 5))\n",
        "librosa.display.waveplot(ir_chapel, sr=sr_chapel)\n",
        "plt.title('IR de uma capela')"
      ],
      "execution_count": null,
      "outputs": []
    },
    {
      "cell_type": "code",
      "metadata": {
        "id": "pvbPAaUo0zEL"
      },
      "source": [
        "# \"Tocando\" Chopin na Capela"
      ],
      "execution_count": null,
      "outputs": []
    },
    {
      "cell_type": "code",
      "metadata": {
        "id": "hLeMuGVF1Gsb"
      },
      "source": [
        "Mazurca, sr_Mazurca = librosa.load('/content/drive/MyDrive/Mazurca_Chopin_opus7_no1_2.wav', mono = True, sr = 22050)"
      ],
      "execution_count": null,
      "outputs": []
    },
    {
      "cell_type": "code",
      "metadata": {
        "id": "bC1zEPmJ1u2K"
      },
      "source": [
        "Mazurca = librosa.util.normalize(Mazurca)"
      ],
      "execution_count": null,
      "outputs": []
    },
    {
      "cell_type": "code",
      "metadata": {
        "id": "U5N0kgdE11i7"
      },
      "source": [
        "reproducao_Chopin_chapel = np.convolve(Mazurca, ir_chapel, mode = 'full')\n"
      ],
      "execution_count": null,
      "outputs": []
    },
    {
      "cell_type": "code",
      "metadata": {
        "id": "Z_bFzjEs1_rC"
      },
      "source": [
        "IPython.display.Audio(reproducao_Chopin_chapel, rate = sr_Mazurca)"
      ],
      "execution_count": null,
      "outputs": []
    },
    {
      "cell_type": "code",
      "metadata": {
        "id": "3WPjPiMQ6cF9"
      },
      "source": [
        "# \"Tocando\" numa Sala de Concertos\n",
        "ir_hall, sr_hall = librosa.load('/content/drive/MyDrive/usina_main_s1_p5.wav', mono = True, sr = 48000)\n",
        "ir_hall = librosa.util.normalize(ir_hall)\n",
        "plt.figure()\n",
        "fig, ax = plt.subplots(figsize=(15, 5))\n",
        "librosa.display.waveplot(ir_hall, sr=sr_hall)\n",
        "plt.title('IR de uma Sala de Concertos')"
      ],
      "execution_count": null,
      "outputs": []
    },
    {
      "cell_type": "code",
      "metadata": {
        "id": "Aq7gppaE7XCf"
      },
      "source": [
        "IPython.display.Audio(ir_hall, rate = sr_hall)"
      ],
      "execution_count": null,
      "outputs": []
    },
    {
      "cell_type": "code",
      "metadata": {
        "id": "-mv0XxeV7p8J"
      },
      "source": [
        "reproducao_Chopin_hall = np.convolve(Mazurca, ir_hall, mode = 'full')\n",
        "IPython.display.Audio(reproducao_Chopin_hall, rate = sr_Mazurca)\n"
      ],
      "execution_count": null,
      "outputs": []
    },
    {
      "cell_type": "markdown",
      "metadata": {
        "id": "pzXxkEnpMp_s"
      },
      "source": [
        "## * Reproduza a sua música neste dois ambientes diferentes"
      ]
    },
    {
      "cell_type": "markdown",
      "metadata": {
        "id": "MC5_US9xNCZt"
      },
      "source": [
        "# 5. Relatório\n",
        "## a) Apresentem as músicas de todos os integrantes do grupo, identificando quem \"criou\" cada uma;\n",
        "## b) Pesquise numa base de dados aberta como: https://www.openair.hosted.york.ac.uk/?page_id=36, e encontre três IRs de ambientes diferentes (pequeno-fechado, auditório médio, igreja grande);\n",
        "## c) \"Criar\" mais uma música (de maior duração) e \"reproduzi-la\" em cada ambiente, comentando as diferenças;\n",
        "## d) Repita o mesmo procedimento (c) para um outro .midi que desejar (da web).\n",
        "## e) Usando algum programa que lê partituras midi, por exemplo \"Finale Notepad\" ou \"MuseScore\", faça uma das duas opções:\n",
        "###    i) leia uma música com pelo menos quatro vozes, e troque um instrumento qualquer, gere o arquivo midi com o instrumento \"trocado\" e coloque as duas músicas no site\n",
        "###    ii) ou faça um acompanhamento (Loops) de batidas original\n",
        "# -X-X-X-"
      ]
    },
    {
      "cell_type": "code",
      "metadata": {
        "id": "uQ_uPQ6P8Cbe"
      },
      "source": [
        ""
      ],
      "execution_count": null,
      "outputs": []
    }
  ]
}