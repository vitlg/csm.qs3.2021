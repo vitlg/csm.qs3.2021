{
  "nbformat": 4,
  "nbformat_minor": 0,
  "metadata": {
    "colab": {
      "name": "Lab4_ImageDWT_x.ipynb",
      "provenance": [],
      "collapsed_sections": [
        "X_pjvlqfRaV0"
      ]
    },
    "kernelspec": {
      "name": "python3",
      "display_name": "Python 3"
    }
  },
  "cells": [
    {
      "cell_type": "markdown",
      "metadata": {
        "id": "X_pjvlqfRaV0"
      },
      "source": [
        "# ESTI019 - QS2021 - CSM - Lab4"
      ]
    },
    {
      "cell_type": "markdown",
      "metadata": {
        "id": "PlQXohfgHVLn"
      },
      "source": [
        "# Lab4 - Codificação de Imagem com DWT "
      ]
    },
    {
      "cell_type": "markdown",
      "metadata": {
        "id": "3SHUSLN7RjXv"
      },
      "source": [
        "A. Objetivos:\n",
        "\n",
        "\n",
        "1.   Efetuar a Codificação de Imagem e a Decodificação por DWT e IDWT\n",
        "2.   Testar funções de Codificação Multinível\n",
        "3.   Verificar a taxa de compressão só com a Componente de Aproximação"
      ]
    },
    {
      "cell_type": "code",
      "metadata": {
        "id": "iLpOcm6kHa5O"
      },
      "source": [
        "import numpy as np\n",
        "import cv2 as cv\n",
        "import pywt\n",
        "import pywt.data\n",
        "import matplotlib.image as mpimg\n",
        "import matplotlib.pyplot as plt"
      ],
      "execution_count": 1,
      "outputs": []
    },
    {
      "cell_type": "markdown",
      "metadata": {
        "id": "MpZVj23ZQwKr"
      },
      "source": [
        "B. Monte o seu google drive e verifique os seus arquivos:"
      ]
    },
    {
      "cell_type": "code",
      "metadata": {
        "id": "DgQ0s9_nuFOD"
      },
      "source": [
        ""
      ],
      "execution_count": null,
      "outputs": []
    },
    {
      "cell_type": "code",
      "metadata": {
        "id": "qg9FeEiGHtFS"
      },
      "source": [
        "!ls -l \"drive/My Drive/Colab Notebooks\""
      ],
      "execution_count": null,
      "outputs": []
    },
    {
      "cell_type": "markdown",
      "metadata": {
        "id": "5cxtMwELQ5SQ"
      },
      "source": [
        "C. Codificação de Luminância (P&B) com DWT para a Pimentas"
      ]
    },
    {
      "cell_type": "code",
      "metadata": {
        "id": "zjDF6trtIcH_"
      },
      "source": [
        "img = mpimg.imread('drive/My Drive/Colab Notebooks/peppers.png')\n",
        "\n",
        "img_gray = cv.cvtColor(img, cv.COLOR_RGB2GRAY)\n",
        "\n",
        "\n",
        "coefs2 = pywt.dwt2(img_gray,'haar', mode='periodization')  #1 nível de DWT\n",
        "(cA, (cH, cV, cD)) = coefs2 #Separando os coeficientes\n",
        "imgr = pywt.idwt2(coefs2, 'haar', mode = 'periodization')  #1 nível de IDWT\n",
        "\n",
        "plt.figure(figsize=(10,10))\n",
        "plt.subplot(2,2,1)\n",
        "plt.imshow(cA,'gray'); plt.title(\"CA - Aproximação\")\n",
        "plt.subplot(2,2,2)\n",
        "plt.imshow(cV,'gray'); plt.title(\"CV - Bordas Verticais\")\n",
        "plt.subplot(2,2,3)\n",
        "plt.imshow(cH,'gray'); plt.title(\"CH - Bordas Horizontais\")\n",
        "plt.subplot(2,2,4)\n",
        "plt.imshow(cD,'gray'); plt.title(\"CD - Bordas Diagonais\")\n"
      ],
      "execution_count": null,
      "outputs": []
    },
    {
      "cell_type": "markdown",
      "metadata": {
        "id": "5-OCewlPxk4h"
      },
      "source": [
        "C.1 Cálculo do Erro Quadrático Médio (MSE) e da Relação Sinal Ruído de Pico (PSNR)"
      ]
    },
    {
      "cell_type": "markdown",
      "metadata": {
        "id": "Mf-axdVxyBh0"
      },
      "source": [
        "a) A MSE é obtida calculando somando-se o erro quadrático de reconstrução pixel a pixel entre a Imagem Original (O) da Reconstruída (R) e normalizando pela dimensão (LxA) da imagem:\n",
        "\n",
        "$ MSE = \\frac{1}{LA}{\\sum_{i=0}^L}{\\sum_{j=0}^A [O(i,j) - R(i,j)]^2}$\n",
        "\n",
        "b) A SNR de pico (PSNR) é definida para cada plano componente da imagem como:\n",
        "\n",
        "$ PSNR = 10.log_{10} \\left( \\frac{{MAX_I}^2}{MSE} \\right) $\n",
        "\n",
        "sendo $MAX_I$ o valor máximo do pixel, que para 8 bits equivale a 255, logo:\n",
        "\n",
        "$ PSNR = 20.log_{10}(255) - 10.log_{10} (MSE) $\n",
        "\n",
        "OBS.: Para uma imagem RGB, $ MSE = MSE_R + MSE_G + MSE_B $, sendo similar definiação para YCrCb e HSV\n"
      ]
    },
    {
      "cell_type": "code",
      "metadata": {
        "id": "DROm1BK42caA"
      },
      "source": [
        "# Calculo da MSE P&B\n",
        "A, L, Camadas = img.shape\n",
        "dif = img_gray - imgr\n",
        "MSE_gray = np.sum(np.matmul(dif,np.transpose(dif)))/(A*L)\n",
        "print(\"MSE_Y = {:.2e}\".format(MSE_gray))\n",
        "PSNR_Y = 20*np.log10(255) - 10*np.log10(MSE_gray)\n",
        "print(\"PSNR_Luma = {:.2f} dB\".format(PSNR_Y))\n",
        "plt.figure(figsize=(20,10))\n",
        "infograf = \"Imagem Reconstruída de Luminância (Y) com PSNR = \" + str(np.uint8(PSNR_Y)) + ' dB'\n",
        "plt.subplot(1,2,1); plt.imshow(img_gray,'gray'); plt.title(\"Imagem Original P&B\")\n",
        "plt.subplot(1,2,2); plt.imshow(imgr,'gray'); plt.title(infograf)"
      ],
      "execution_count": null,
      "outputs": []
    },
    {
      "cell_type": "markdown",
      "metadata": {
        "id": "pXsf0gqOw5lW"
      },
      "source": [
        "D. Teste das Funções de Multiresolução wavedec2() e waverec2()"
      ]
    },
    {
      "cell_type": "code",
      "metadata": {
        "id": "UK1_n6hlxBsL"
      },
      "source": [
        "C = pywt.wavedec2(img_gray,'haar', mode = 'symmetric', level=2) # Dois níveis de decomposição DWT\n",
        "imgr2 = pywt.waverec2(C, 'haar', mode = 'symmetric') # Dois níveis de IDWT\n",
        "\n",
        "# Para extrair os coeficientes de cada nível\n",
        "cA2 = C[0]  # Coeficientes de Aproximação nível 2\n",
        "(cH1, cV1, cD1) = C[-1] # Coeficientes de Detalhes nível 1\n",
        "(cH2, cV2, cD2) = C[-2] # Coeficientes de Detalhes nível 2\n",
        "\n",
        "# Imagem Original\n",
        "img_gray = cv.cvtColor(img, cv.COLOR_BGR2GRAY)\n",
        "\n",
        "# Plot dos coeficientes do nível 2\n",
        "plt.figure(figsize=(5,5))\n",
        "plt.subplot(2,2,1)\n",
        "plt.imshow(cA2, 'gray'); plt.title('Ap. N2: CA2')\n",
        "plt.subplot(2,2,2)\n",
        "plt.imshow(cV2, 'gray'); plt.title('B. V. N2: CV2')\n",
        "plt.subplot(2,2,3)\n",
        "plt.imshow(cH2, 'gray'); plt.title('B. H. N2: CH2')\n",
        "plt.subplot(2,2,4)\n",
        "plt.imshow(cD2, 'gray'); plt.title('B. D. N2: CD2')\n",
        "\n",
        "# Plot Original e Reconstrução\n",
        "plt.figure(figsize=(20,10))\n",
        "plt.subplot(1,2,1); plt.imshow(img_gray,'gray'); plt.title('Imagem Original')\n",
        "plt.subplot(1,2,2); plt.imshow(imgr2,'gray'); plt.title('Imagem Reconstruída')\n"
      ],
      "execution_count": null,
      "outputs": []
    },
    {
      "cell_type": "markdown",
      "metadata": {
        "id": "tOXxcGASPjjM"
      },
      "source": [
        "E. Efetuar uma \"Montagem\" com wavedec2() e wavedecn() "
      ]
    },
    {
      "cell_type": "markdown",
      "metadata": {
        "id": "6HrrQ5a1PuCG"
      },
      "source": [
        "1º Nível"
      ]
    },
    {
      "cell_type": "markdown",
      "metadata": {
        "id": "rWX9CkcYTCxY"
      },
      "source": [
        ""
      ]
    },
    {
      "cell_type": "code",
      "metadata": {
        "id": "NHHXkuK3-88F"
      },
      "source": [
        ""
      ],
      "execution_count": null,
      "outputs": []
    },
    {
      "cell_type": "code",
      "metadata": {
        "id": "rHm6A0M10RII"
      },
      "source": [
        "CV1 = cV1.copy()\n",
        "CH1 = cH1.copy()\n",
        "CD1 = cD1.copy()\n"
      ],
      "execution_count": 8,
      "outputs": []
    },
    {
      "cell_type": "markdown",
      "metadata": {
        "id": "mnVUl2eSPwbe"
      },
      "source": [
        "2º Nível"
      ]
    },
    {
      "cell_type": "code",
      "metadata": {
        "id": "96CibjWkFFLP"
      },
      "source": [
        "CA2 = cA2.copy()\n",
        "CH2 = cH2.copy()\n",
        "CV2 = cV2.copy()\n",
        "CD2 = cD2.copy()\n",
        "# Matriz Final Completa\n",
        "CA1 = np.bmat([[CA2,CV2],[CH2,CD2]])\n",
        "CC = np.bmat([[CA1,CV1],[CH1,CD1]])\n"
      ],
      "execution_count": 9,
      "outputs": []
    },
    {
      "cell_type": "code",
      "metadata": {
        "id": "MMPXwEjZFlGT"
      },
      "source": [
        "plt.figure(figsize=(20,20))\n",
        "plt.imshow(CC,'gray')\n",
        "plt.title('Codificação de Imagem em multinível com função wavedec2()')"
      ],
      "execution_count": null,
      "outputs": []
    },
    {
      "cell_type": "markdown",
      "metadata": {
        "id": "NtJ1vyXu7g2X"
      },
      "source": [
        "F. Reconstrução de Imagem Colorida"
      ]
    },
    {
      "cell_type": "code",
      "metadata": {
        "id": "adfLLHhWp8gG"
      },
      "source": [
        "# Imagem Original\n",
        "\n",
        "plt.figure(figsize=(20,20))\n",
        "plt.imshow(img); plt.title(\"Imagem Original\")\n",
        "\n",
        "# Codificação por planos de cores\n",
        "# Plano Vermelho\n",
        "coefs_R = pywt.dwt2(img[:,:,0],'haar', mode='periodization')  #1 nível de DWT R\n",
        "(cA_R, (cH_R, cV_R, cD_R)) = coefs_R #Separando os coeficientes\n",
        "cr_R = pywt.idwt2(coefs_R, 'haar', mode = 'periodization')  #1 nível de IDWT R\n",
        "\n",
        "plt.figure(figsize=(20,20))\n",
        "plt.subplot(2,2,1)\n",
        "plt.imshow(cA_R,'Reds_r'); plt.title(\"CA_Red - Aproximação\")\n",
        "plt.subplot(2,2,2)\n",
        "plt.imshow(cV_R,'Reds_r'); plt.title(\"CV_Red - Bordas Verticais\")\n",
        "plt.subplot(2,2,3)\n",
        "plt.imshow(cH_R,'Reds_r'); plt.title(\"CH_Red - Bordas Horizontais\")\n",
        "plt.subplot(2,2,4)\n",
        "plt.imshow(cD_R,'Reds_r'); plt.title(\"CD_Red - Bordas Diagonais\")\n",
        "\n",
        "plt.figure(figsize=(20,20))\n",
        "plt.imshow(cr_R, 'Reds_r'); plt.title(\"Imagem Reconstruída Red\")\n"
      ],
      "execution_count": null,
      "outputs": []
    },
    {
      "cell_type": "code",
      "metadata": {
        "id": "jo2WmtGgyCuV"
      },
      "source": [
        "# Plano Verde\n",
        "coefs_G = pywt.dwt2(img[:,:,1],'haar', mode='periodization')  #1 nível de DWT G\n",
        "(cA_G, (cH_G, cV_G, cD_G)) = coefs_G #Separando os coeficientes\n",
        "cr_G = pywt.idwt2(coefs_G, 'haar', mode = 'periodization')  #1 nível de IDWT G\n",
        "\n",
        "plt.figure(figsize=(20,20))\n",
        "plt.subplot(2,2,1)\n",
        "plt.imshow(cA_G,'Greens_r'); plt.title(\"CA_Green - Aproximação\")\n",
        "plt.subplot(2,2,2)\n",
        "plt.imshow(cV_G,'Greens_r'); plt.title(\"CV_Green - Bordas Verticais\")\n",
        "plt.subplot(2,2,3)\n",
        "plt.imshow(cH_G,'Greens_r'); plt.title(\"CH_Green - Bordas Horizontais\")\n",
        "plt.subplot(2,2,4)\n",
        "plt.imshow(cD_G,'Greens_r'); plt.title(\"CD_Green - Bordas Diagonais\")\n",
        "\n",
        "plt.figure(figsize=(20,20))\n",
        "plt.imshow(cr_G, 'Greens_r'); plt.title(\"Imagem Reconstruída Green\")"
      ],
      "execution_count": null,
      "outputs": []
    },
    {
      "cell_type": "code",
      "metadata": {
        "id": "wzXwhJvuykQ7"
      },
      "source": [
        "# Plano Azul\n",
        "coefs_B = pywt.dwt2(img[:,:,2],'haar', mode='periodization')  #1 nível de DWT B\n",
        "(cA_B, (cH_B, cV_B, cD_B)) = coefs_B #Separando os coeficientes\n",
        "cr_B = pywt.idwt2(coefs_B, 'haar', mode = 'periodization')  #1 nível de IDWT B\n",
        "\n",
        "plt.figure(figsize=(20,20))\n",
        "plt.subplot(2,2,1)\n",
        "plt.imshow(cA_B,'Blues_r'); plt.title(\"CA_Blue - Aproximação\")\n",
        "plt.subplot(2,2,2)\n",
        "plt.imshow(cV_B,'Blues_r'); plt.title(\"CV_Blue - Bordas Verticais\")\n",
        "plt.subplot(2,2,3)\n",
        "plt.imshow(cH_B,'Blues_r'); plt.title(\"CH_Blue - Bordas Horizontais\")\n",
        "plt.subplot(2,2,4)\n",
        "plt.imshow(cD_B,'Blues_r'); plt.title(\"CD_Blue - Bordas Diagonais\")\n",
        "\n",
        "plt.figure(figsize=(20,20))\n",
        "plt.imshow(cr_B, 'Blues_r'); plt.title(\"Imagem Reconstruída Blue\")"
      ],
      "execution_count": null,
      "outputs": []
    },
    {
      "cell_type": "code",
      "metadata": {
        "id": "GuRLgvQizW07"
      },
      "source": [
        "# Reconstrução Nível 1 Colorida \n",
        "A1, L1 = cA_R.shape\n",
        "imgrec1 = np.zeros((A1,L1,3))\n",
        "imgrec1[:,:,0] = cA_R.copy()\n",
        "imgrec1[:,:,1] = cA_G.copy()\n",
        "imgrec1[:,:,2] = cA_B.copy()\n",
        "plt.figure(figsize=(10,10))\n",
        "plt.imshow(imgrec1); plt.title(\"Imagem Reconstruída DWT/IDWT Nível 1\")\n"
      ],
      "execution_count": null,
      "outputs": []
    },
    {
      "cell_type": "markdown",
      "metadata": {
        "id": "i-9mbD3hLwGH"
      },
      "source": [
        "G. Salvando as Aproximações e depois fazendo download dos arquivos, calcular a taxa de compressão com o original"
      ]
    },
    {
      "cell_type": "code",
      "metadata": {
        "id": "rz2UmEe4Iz-J"
      },
      "source": [
        "# obtenha aproximação de NÍVEL 1 e converte para inteiro\n",
        "C1 = pywt.wavedec2(img_gray,'haar', mode = 'symmetric', level=1) # Um nível de decomposição DWT\n",
        "CA1_ = 255 * C1[0] / np.abs(C1[0]).max()\n",
        "CA1_ = CA1_.astype(int)\n",
        "\n",
        "# aproximação de NÍVEL 2 - ja´obtido no item (D) e converte para inteiro\n",
        "CA2_ = 255 * cA2 / np.abs(cA2).max()\n",
        "CA2_ = CA2_.astype(int)\n",
        "\n",
        "# Salva no drive\n",
        "cv.imwrite('drive/My Drive/Colab Notebooks/peppers_DWT_N1_Y.bmp', CA1_) # Aproximação Nível 1 só Y\n",
        "cv.imwrite('drive/My Drive/Colab Notebooks/peppers_DWT_N2_Y.bmp', CA2_) # Aproximação Nível 2 só Y\n"
      ],
      "execution_count": null,
      "outputs": []
    },
    {
      "cell_type": "markdown",
      "metadata": {
        "id": "59gPxRKS78kx"
      },
      "source": [
        "H. Gravando o Arquivo Codificado DWT/IDWT nível 1 Colorido, calcular a taxa de compressão com o original"
      ]
    },
    {
      "cell_type": "code",
      "metadata": {
        "id": "YTZazGIW5dP3"
      },
      "source": [
        "# Aproximação Nível 1 Colorida \n",
        "# converte RGB para BGR e converte para inteiro\n",
        "imgrec1_ = np.zeros((A1,L1,3))\n",
        "imgrec1_[:,:,0] = imgrec1[:,:,2] \n",
        "imgrec1_[:,:,1] = imgrec1[:,:,1] \n",
        "imgrec1_[:,:,2] = imgrec1[:,:,0] \n",
        "imgrec1_ = ( 255 * imgrec1_ / np.abs(imgrec1_).max() ).astype(int)\n",
        "\n",
        "# Salva no drive\n",
        "cv.imwrite('drive/My Drive/Colab Notebooks/peppers_DWT_N1_colorida.bmp', imgrec1_) # Gravando Aproximação Nível 1 Colorida"
      ],
      "execution_count": null,
      "outputs": []
    },
    {
      "cell_type": "markdown",
      "metadata": {
        "id": "YmOOIWwhkOd8"
      },
      "source": [
        "I. Reconstrução da Imagem colorida e Cálculo da MSE de cada plano de cor e da PSNR total"
      ]
    },
    {
      "cell_type": "code",
      "metadata": {
        "id": "k77T5twh12RD"
      },
      "source": [
        "# Reconstrução Colorida Original\n",
        "A,L = imgr2.shape\n",
        "imgrec = np.zeros((A,L,3))\n",
        "imgrec[:,:,0] = cr_R.copy()\n",
        "imgrec[:,:,1] = cr_G.copy()\n",
        "imgrec[:,:,2] = cr_B.copy()\n",
        "\n",
        "# Calculo do MSE colorida\n",
        "dif2 = img - imgrec\n",
        "MSE_R = np.sum(np.matmul(dif2[:,:,0],np.transpose(dif2[:,:,0])))/(A*L) # Erro Quadrático Médio plano R\n",
        "MSE_G = np.sum(np.matmul(dif2[:,:,1],np.transpose(dif2[:,:,1])))/(A*L) # Erro Quadrático Médio plano G\n",
        "MSE_B = np.sum(np.matmul(dif2[:,:,2],np.transpose(dif2[:,:,2])))/(A*L) # Erro Quadrático Médio plano B\n",
        "print(\"MSE_Red= {:.2e}\".format(MSE_R), \" MSE_Green= {:.2e}\".format(MSE_G), \" MSE_Blue= {:.2e}\".format(MSE_B))\n",
        "\n",
        "# Cálculo da SNR de pico colorida (PSNR), 3 camadas R, G e B\n",
        "PSNR = 20*np.log10(255) - 10*np.log10(MSE_R + MSE_G + MSE_B)\n",
        "print(\"PSNR total = {:.2f} dB\".format(PSNR))\n",
        "\n",
        "plt.figure(figsize=(20,20))\n",
        "infograf2 = \"Imagem Reconstruída com PSNR total = \" + str(np.uint8(PSNR)) + ' dB'\n",
        "plt.imshow(imgrec); plt.title(infograf2)"
      ],
      "execution_count": null,
      "outputs": []
    },
    {
      "cell_type": "markdown",
      "metadata": {
        "id": "quTgN_TdP_rW"
      },
      "source": [
        "# I. Cada um deve repetir todos os passos para a sua foto individual\n",
        "\n",
        "# J. Relatório (página)\n",
        "\n",
        "\n",
        "1.   Acrescentar também a foto-montagem do grupo todo, mas codificar esta foto-montagem em um nível com DWT também as componentes Cr e Cb (efetuamos aqui apenas para a componente Y)\n",
        "2.   Fazer uma tabela com as taxas de compressão obtidas e a PSNR de cada uma das fotos utilizadas\n",
        "\n"
      ]
    },
    {
      "cell_type": "markdown",
      "metadata": {
        "id": "NIKMxDaHQWX-"
      },
      "source": [
        "-X-X-X-X-X-X-X-X-X-X-X-X-X-X-X-X-X-X-X-X-X-X-X-X-X-X-X-X-X-X-X-X-X-X-X-X-X-X-X-X"
      ]
    }
  ]
}